{
 "cells": [
  {
   "cell_type": "markdown",
   "id": "5e6a22fd",
   "metadata": {},
   "source": [
    "# Splitting Numpy array\n",
    "splitting array breaks an array into mulyiple ones"
   ]
  },
  {
   "cell_type": "code",
   "execution_count": 1,
   "id": "a9ff10c5",
   "metadata": {},
   "outputs": [],
   "source": [
    "import numpy as np\n",
    "import matplotlib.pyplot as plt"
   ]
  },
  {
   "cell_type": "markdown",
   "id": "0fe07c17",
   "metadata": {},
   "source": [
    "# splitting array into 2 parts"
   ]
  },
  {
   "cell_type": "code",
   "execution_count": 6,
   "id": "f1e2e106",
   "metadata": {},
   "outputs": [
    {
     "name": "stdout",
     "output_type": "stream",
     "text": [
      "[array([1, 4, 7, 8]), array([2, 5, 9, 0])]\n"
     ]
    }
   ],
   "source": [
    "a=np.array([1,4,7,8,2,5,9,0])\n",
    "b=np.array_split(a,2)\n",
    "print(b)"
   ]
  },
  {
   "cell_type": "markdown",
   "id": "43636f70",
   "metadata": {},
   "source": [
    "# splitting array into 3 parts"
   ]
  },
  {
   "cell_type": "code",
   "execution_count": 21,
   "id": "40bdd4ae",
   "metadata": {},
   "outputs": [],
   "source": [
    "c=np.random.randint(0,101,(5,7))"
   ]
  },
  {
   "cell_type": "code",
   "execution_count": 23,
   "id": "0bcf9c58",
   "metadata": {},
   "outputs": [
    {
     "data": {
      "text/plain": [
       "[array([[17, 37, 93, 83, 37, 78, 81],\n",
       "        [24, 42, 82, 97, 44, 39, 85]]),\n",
       " array([[86, 39, 41, 66,  8, 40, 29],\n",
       "        [86, 97, 90, 26,  7, 13, 31]]),\n",
       " array([[54,  0, 22, 91, 76, 63, 17]])]"
      ]
     },
     "execution_count": 23,
     "metadata": {},
     "output_type": "execute_result"
    }
   ],
   "source": [
    "np.array_split(c,3)"
   ]
  },
  {
   "cell_type": "code",
   "execution_count": 22,
   "id": "85d456f5",
   "metadata": {},
   "outputs": [
    {
     "data": {
      "text/plain": [
       "array([[17, 37, 93, 83, 37, 78, 81],\n",
       "       [24, 42, 82, 97, 44, 39, 85],\n",
       "       [86, 39, 41, 66,  8, 40, 29],\n",
       "       [86, 97, 90, 26,  7, 13, 31],\n",
       "       [54,  0, 22, 91, 76, 63, 17]])"
      ]
     },
     "execution_count": 22,
     "metadata": {},
     "output_type": "execute_result"
    }
   ],
   "source": [
    "c"
   ]
  },
  {
   "cell_type": "markdown",
   "id": "4c8eb205",
   "metadata": {},
   "source": [
    "# splitting qn array across row"
   ]
  },
  {
   "cell_type": "code",
   "execution_count": 24,
   "id": "ebcb0694",
   "metadata": {},
   "outputs": [
    {
     "data": {
      "text/plain": [
       "[array([[17, 37, 93],\n",
       "        [24, 42, 82],\n",
       "        [86, 39, 41],\n",
       "        [86, 97, 90],\n",
       "        [54,  0, 22]]),\n",
       " array([[83, 37],\n",
       "        [97, 44],\n",
       "        [66,  8],\n",
       "        [26,  7],\n",
       "        [91, 76]]),\n",
       " array([[78, 81],\n",
       "        [39, 85],\n",
       "        [40, 29],\n",
       "        [13, 31],\n",
       "        [63, 17]])]"
      ]
     },
     "execution_count": 24,
     "metadata": {},
     "output_type": "execute_result"
    }
   ],
   "source": [
    "np.array_split(c,3,axis=1)"
   ]
  },
  {
   "cell_type": "code",
   "execution_count": 25,
   "id": "fdb2ddfe",
   "metadata": {},
   "outputs": [
    {
     "data": {
      "text/plain": [
       "[array([[17, 37, 93, 83],\n",
       "        [24, 42, 82, 97],\n",
       "        [86, 39, 41, 66],\n",
       "        [86, 97, 90, 26],\n",
       "        [54,  0, 22, 91]]),\n",
       " array([[37, 78, 81],\n",
       "        [44, 39, 85],\n",
       "        [ 8, 40, 29],\n",
       "        [ 7, 13, 31],\n",
       "        [76, 63, 17]])]"
      ]
     },
     "execution_count": 25,
     "metadata": {},
     "output_type": "execute_result"
    }
   ],
   "source": [
    "np.array_split(c,2,axis=1)"
   ]
  },
  {
   "cell_type": "markdown",
   "id": "a9b8db93",
   "metadata": {},
   "source": [
    "# splitting qn array across column"
   ]
  },
  {
   "cell_type": "code",
   "execution_count": 26,
   "id": "148c401f",
   "metadata": {},
   "outputs": [
    {
     "data": {
      "text/plain": [
       "[array([[17, 37, 93, 83, 37, 78, 81],\n",
       "        [24, 42, 82, 97, 44, 39, 85],\n",
       "        [86, 39, 41, 66,  8, 40, 29]]),\n",
       " array([[86, 97, 90, 26,  7, 13, 31],\n",
       "        [54,  0, 22, 91, 76, 63, 17]])]"
      ]
     },
     "execution_count": 26,
     "metadata": {},
     "output_type": "execute_result"
    }
   ],
   "source": [
    "np.array_split(c,2,axis=0)"
   ]
  },
  {
   "cell_type": "markdown",
   "id": "6d8d5447",
   "metadata": {},
   "source": [
    "# Stacking of array"
   ]
  },
  {
   "cell_type": "markdown",
   "id": "62131fe3",
   "metadata": {},
   "source": [
    "# stacking two 1 dimension array"
   ]
  },
  {
   "cell_type": "code",
   "execution_count": 27,
   "id": "ca191477",
   "metadata": {},
   "outputs": [],
   "source": [
    "d=np.array([1,4,7,8,2,5,9,0])\n",
    "f=np.array([2,8,4,0,6,5,1,3])"
   ]
  },
  {
   "cell_type": "code",
   "execution_count": 28,
   "id": "aa9f5d4e",
   "metadata": {},
   "outputs": [
    {
     "data": {
      "text/plain": [
       "array([[1, 4, 7, 8, 2, 5, 9, 0],\n",
       "       [2, 8, 4, 0, 6, 5, 1, 3]])"
      ]
     },
     "execution_count": 28,
     "metadata": {},
     "output_type": "execute_result"
    }
   ],
   "source": [
    "np.stack((d,f),axis=0)# stacked row wise"
   ]
  },
  {
   "cell_type": "code",
   "execution_count": 29,
   "id": "537063d1",
   "metadata": {},
   "outputs": [
    {
     "data": {
      "text/plain": [
       "array([[1, 2],\n",
       "       [4, 8],\n",
       "       [7, 4],\n",
       "       [8, 0],\n",
       "       [2, 6],\n",
       "       [5, 5],\n",
       "       [9, 1],\n",
       "       [0, 3]])"
      ]
     },
     "execution_count": 29,
     "metadata": {},
     "output_type": "execute_result"
    }
   ],
   "source": [
    "np.stack((d,f),axis=1)# stacked column wise"
   ]
  },
  {
   "cell_type": "markdown",
   "id": "1aa15d84",
   "metadata": {},
   "source": [
    "# stacking two array"
   ]
  },
  {
   "cell_type": "code",
   "execution_count": 31,
   "id": "cb49987a",
   "metadata": {},
   "outputs": [],
   "source": [
    "r=np.random.randint(2,99,(4,6))"
   ]
  },
  {
   "cell_type": "code",
   "execution_count": 32,
   "id": "be16dd05",
   "metadata": {},
   "outputs": [
    {
     "data": {
      "text/plain": [
       "array([[82, 36, 88, 75, 13, 45],\n",
       "       [41, 24, 24, 98, 40, 61],\n",
       "       [16,  7, 19, 65, 87, 43],\n",
       "       [35, 27, 76, 51, 72, 58]])"
      ]
     },
     "execution_count": 32,
     "metadata": {},
     "output_type": "execute_result"
    }
   ],
   "source": [
    "r"
   ]
  },
  {
   "cell_type": "code",
   "execution_count": 36,
   "id": "fb9d190a",
   "metadata": {},
   "outputs": [],
   "source": [
    "t=np.random.randint(5,101,(4,6))"
   ]
  },
  {
   "cell_type": "code",
   "execution_count": 37,
   "id": "8368a0c8",
   "metadata": {},
   "outputs": [
    {
     "data": {
      "text/plain": [
       "array([[30, 83,  9, 83, 13, 37],\n",
       "       [60, 96, 97, 52,  8, 55],\n",
       "       [60, 16, 75, 90, 40, 24],\n",
       "       [44, 47, 38, 82, 12, 47]])"
      ]
     },
     "execution_count": 37,
     "metadata": {},
     "output_type": "execute_result"
    }
   ],
   "source": [
    "t"
   ]
  },
  {
   "cell_type": "code",
   "execution_count": 38,
   "id": "fbca4816",
   "metadata": {},
   "outputs": [
    {
     "data": {
      "text/plain": [
       "array([[[82, 36, 88, 75, 13, 45],\n",
       "        [41, 24, 24, 98, 40, 61],\n",
       "        [16,  7, 19, 65, 87, 43],\n",
       "        [35, 27, 76, 51, 72, 58]],\n",
       "\n",
       "       [[30, 83,  9, 83, 13, 37],\n",
       "        [60, 96, 97, 52,  8, 55],\n",
       "        [60, 16, 75, 90, 40, 24],\n",
       "        [44, 47, 38, 82, 12, 47]]])"
      ]
     },
     "execution_count": 38,
     "metadata": {},
     "output_type": "execute_result"
    }
   ],
   "source": [
    "np.stack((r,t),axis=0)# row wise"
   ]
  },
  {
   "cell_type": "code",
   "execution_count": 39,
   "id": "ec92efa1",
   "metadata": {},
   "outputs": [
    {
     "data": {
      "text/plain": [
       "array([[[82, 36, 88, 75, 13, 45],\n",
       "        [30, 83,  9, 83, 13, 37]],\n",
       "\n",
       "       [[41, 24, 24, 98, 40, 61],\n",
       "        [60, 96, 97, 52,  8, 55]],\n",
       "\n",
       "       [[16,  7, 19, 65, 87, 43],\n",
       "        [60, 16, 75, 90, 40, 24]],\n",
       "\n",
       "       [[35, 27, 76, 51, 72, 58],\n",
       "        [44, 47, 38, 82, 12, 47]]])"
      ]
     },
     "execution_count": 39,
     "metadata": {},
     "output_type": "execute_result"
    }
   ],
   "source": [
    "np.stack((r,t),axis=1)# column wise"
   ]
  },
  {
   "cell_type": "code",
   "execution_count": 41,
   "id": "93742662",
   "metadata": {},
   "outputs": [
    {
     "ename": "AxisError",
     "evalue": "axis 4 is out of bounds for array of dimension 3",
     "output_type": "error",
     "traceback": [
      "\u001b[1;31m---------------------------------------------------------------------------\u001b[0m",
      "\u001b[1;31mAxisError\u001b[0m                                 Traceback (most recent call last)",
      "Input \u001b[1;32mIn [41]\u001b[0m, in \u001b[0;36m<cell line: 1>\u001b[1;34m()\u001b[0m\n\u001b[1;32m----> 1\u001b[0m \u001b[43mnp\u001b[49m\u001b[38;5;241;43m.\u001b[39;49m\u001b[43mstack\u001b[49m\u001b[43m(\u001b[49m\u001b[43m(\u001b[49m\u001b[43mr\u001b[49m\u001b[43m,\u001b[49m\u001b[43mt\u001b[49m\u001b[43m)\u001b[49m\u001b[43m,\u001b[49m\u001b[43maxis\u001b[49m\u001b[38;5;241;43m=\u001b[39;49m\u001b[38;5;241;43m4\u001b[39;49m\u001b[43m)\u001b[49m\n",
      "File \u001b[1;32m<__array_function__ internals>:5\u001b[0m, in \u001b[0;36mstack\u001b[1;34m(*args, **kwargs)\u001b[0m\n",
      "File \u001b[1;32m~\\anaconda3\\lib\\site-packages\\numpy\\core\\shape_base.py:429\u001b[0m, in \u001b[0;36mstack\u001b[1;34m(arrays, axis, out)\u001b[0m\n\u001b[0;32m    426\u001b[0m     \u001b[38;5;28;01mraise\u001b[39;00m \u001b[38;5;167;01mValueError\u001b[39;00m(\u001b[38;5;124m'\u001b[39m\u001b[38;5;124mall input arrays must have the same shape\u001b[39m\u001b[38;5;124m'\u001b[39m)\n\u001b[0;32m    428\u001b[0m result_ndim \u001b[38;5;241m=\u001b[39m arrays[\u001b[38;5;241m0\u001b[39m]\u001b[38;5;241m.\u001b[39mndim \u001b[38;5;241m+\u001b[39m \u001b[38;5;241m1\u001b[39m\n\u001b[1;32m--> 429\u001b[0m axis \u001b[38;5;241m=\u001b[39m \u001b[43mnormalize_axis_index\u001b[49m\u001b[43m(\u001b[49m\u001b[43maxis\u001b[49m\u001b[43m,\u001b[49m\u001b[43m \u001b[49m\u001b[43mresult_ndim\u001b[49m\u001b[43m)\u001b[49m\n\u001b[0;32m    431\u001b[0m sl \u001b[38;5;241m=\u001b[39m (\u001b[38;5;28mslice\u001b[39m(\u001b[38;5;28;01mNone\u001b[39;00m),) \u001b[38;5;241m*\u001b[39m axis \u001b[38;5;241m+\u001b[39m (_nx\u001b[38;5;241m.\u001b[39mnewaxis,)\n\u001b[0;32m    432\u001b[0m expanded_arrays \u001b[38;5;241m=\u001b[39m [arr[sl] \u001b[38;5;28;01mfor\u001b[39;00m arr \u001b[38;5;129;01min\u001b[39;00m arrays]\n",
      "\u001b[1;31mAxisError\u001b[0m: axis 4 is out of bounds for array of dimension 3"
     ]
    }
   ],
   "source": [
    "np.stack((r,t),axis=4)"
   ]
  },
  {
   "cell_type": "code",
   "execution_count": null,
   "id": "ced26234",
   "metadata": {},
   "outputs": [],
   "source": []
  },
  {
   "cell_type": "code",
   "execution_count": null,
   "id": "989a6b04",
   "metadata": {},
   "outputs": [],
   "source": []
  }
 ],
 "metadata": {
  "kernelspec": {
   "display_name": "Python 3 (ipykernel)",
   "language": "python",
   "name": "python3"
  },
  "language_info": {
   "codemirror_mode": {
    "name": "ipython",
    "version": 3
   },
   "file_extension": ".py",
   "mimetype": "text/x-python",
   "name": "python",
   "nbconvert_exporter": "python",
   "pygments_lexer": "ipython3",
   "version": "3.9.12"
  }
 },
 "nbformat": 4,
 "nbformat_minor": 5
}
